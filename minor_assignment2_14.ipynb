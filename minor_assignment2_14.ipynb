{
  "nbformat": 4,
  "nbformat_minor": 0,
  "metadata": {
    "colab": {
      "name": "minor_assignment2_14.ipynb",
      "provenance": [],
      "collapsed_sections": [],
      "authorship_tag": "ABX9TyNyyM8KAafOQ5EGIoT2HCI8",
      "include_colab_link": true
    },
    "kernelspec": {
      "name": "python3",
      "display_name": "Python 3"
    },
    "language_info": {
      "name": "python"
    }
  },
  "cells": [
    {
      "cell_type": "markdown",
      "metadata": {
        "id": "view-in-github",
        "colab_type": "text"
      },
      "source": [
        "<a href=\"https://colab.research.google.com/github/beertocode/mysite/blob/master/minor_assignment2_14.ipynb\" target=\"_parent\"><img src=\"https://colab.research.google.com/assets/colab-badge.svg\" alt=\"Open In Colab\"/></a>"
      ]
    },
    {
      "cell_type": "code",
      "metadata": {
        "colab": {
          "base_uri": "https://localhost:8080/"
        },
        "id": "wFMKLM1s8Ag9",
        "outputId": "27fef847-6bad-4c88-b4a5-66661d798311"
      },
      "source": [
        "import numpy as np, random, operator, pandas as pd, matplotlib.pyplot as plt\n",
        "import math\n",
        "#N=time period of signal\n",
        "N=int(input())\n",
        "#x contains the values as a vector\n",
        "x=[]\n",
        "for i in range(N):\n",
        "  p=float(input())\n",
        "  x.append(p)"
      ],
      "execution_count": 4,
      "outputs": [
        {
          "output_type": "stream",
          "text": [
            "8\n",
            "1\n",
            "1\n",
            "1\n",
            "-1\n",
            "-1\n",
            "0.5\n",
            "0.5\n",
            "0.5\n"
          ],
          "name": "stdout"
        }
      ]
    },
    {
      "cell_type": "code",
      "metadata": {
        "colab": {
          "base_uri": "https://localhost:8080/"
        },
        "id": "NLqrQv5ZQeCi",
        "outputId": "efd0e25f-eade-4dc9-c9f7-f81b53dc0277"
      },
      "source": [
        "x"
      ],
      "execution_count": 5,
      "outputs": [
        {
          "output_type": "execute_result",
          "data": {
            "text/plain": [
              "[1.0, 1.0, 1.0, -1.0, -1.0, 0.5, 0.5, 0.5]"
            ]
          },
          "metadata": {
            "tags": []
          },
          "execution_count": 5
        }
      ]
    },
    {
      "cell_type": "code",
      "metadata": {
        "colab": {
          "base_uri": "https://localhost:8080/"
        },
        "id": "ySr3hJ2uQ4dJ",
        "outputId": "833d0724-a51a-4f85-874f-b13c66e47943"
      },
      "source": [
        "x=np.array(x)\n",
        "x"
      ],
      "execution_count": 6,
      "outputs": [
        {
          "output_type": "execute_result",
          "data": {
            "text/plain": [
              "array([ 1. ,  1. ,  1. , -1. , -1. ,  0.5,  0.5,  0.5])"
            ]
          },
          "metadata": {
            "tags": []
          },
          "execution_count": 6
        }
      ]
    },
    {
      "cell_type": "code",
      "metadata": {
        "id": "cIohniNZSYLu",
        "colab": {
          "base_uri": "https://localhost:8080/"
        },
        "outputId": "57cf6f81-eba7-4a8e-ec77-350f1a8297ba"
      },
      "source": [
        "pi=3.141592653589793238\n",
        "px=[]\n",
        "py=[]\n",
        "for k in range(1,N+1):\n",
        "  smreal=0\n",
        "  smimg=0\n",
        "  for n in range(1,N+1):\n",
        "    nm=((2*pi)/N)*k*n\n",
        "    smreal+=x[n-1]*(math.cos(nm))\n",
        "    smimg+=x[n-1]*(math.sin(nm))\n",
        "  smreal=smreal/(N)\n",
        "  smimg=smimg/(N)\n",
        "  px.append(smreal)\n",
        "  py.append(smimg)\n",
        "  if((smimg<0)):\n",
        "    print(\"a\",k,\"=\",smreal,\"+j\",-1*smimg)\n",
        "  elif(smimg>0):\n",
        "    print(\"a\",k,\"=\",smreal,\"-j\",smimg)\n",
        "  else:\n",
        "    print(\"a\",k,\"=\",smreal)\n",
        "\n",
        "  \n"
      ],
      "execution_count": 7,
      "outputs": [
        {
          "output_type": "stream",
          "text": [
            "a 1 = 0.3200825214724777 -j 0.28347086912079605\n",
            "a 2 = -0.25000000000000006 +j 0.18749999999999994\n",
            "a 3 = 0.054917478527522504 -j 0.1584708691207961\n",
            "a 4 = -0.0625 +j 3.8270212473354795e-17\n",
            "a 5 = 0.05491747852752217 +j 0.1584708691207963\n",
            "a 6 = -0.24999999999999967 -j 0.1875000000000001\n",
            "a 7 = 0.32008252147247757 +j 0.2834708691207967\n",
            "a 8 = 0.3125 +j 2.296212748401287e-16\n"
          ],
          "name": "stdout"
        }
      ]
    },
    {
      "cell_type": "code",
      "metadata": {
        "id": "JR80ylMhtxE8"
      },
      "source": [
        "px=np.array(px)\n",
        "py=np.array(py)\n"
      ],
      "execution_count": 8,
      "outputs": []
    },
    {
      "cell_type": "code",
      "metadata": {
        "id": "9NmA3vEgJ8K_"
      },
      "source": [
        "amplitude=[]\n",
        "phase=[]\n",
        "for i in range(len(px)):\n",
        "  m=math.sqrt((px[i]*px[i])+(py[i]*py[i]))\n",
        "  ph=math.atan(-py[i]/px[i])\n",
        "  phase.append(ph)\n",
        "  amplitude.append(m)"
      ],
      "execution_count": 9,
      "outputs": []
    },
    {
      "cell_type": "code",
      "metadata": {
        "id": "ZjbKtykDLf28"
      },
      "source": [
        "phase=np.array(phase)\n",
        "amplitude=np.array(amplitude)"
      ],
      "execution_count": 10,
      "outputs": []
    },
    {
      "cell_type": "code",
      "metadata": {
        "colab": {
          "base_uri": "https://localhost:8080/"
        },
        "id": "ngQ4ASVDLpeN",
        "outputId": "6966bfe3-4833-47e0-b589-3ee763833523"
      },
      "source": [
        "phase"
      ],
      "execution_count": 11,
      "outputs": [
        {
          "output_type": "execute_result",
          "data": {
            "text/plain": [
              "array([-7.24812231e-01, -6.43501109e-01, -1.23720169e+00, -6.12323400e-16,\n",
              "        1.23720169e+00,  6.43501109e-01,  7.24812231e-01,  7.34788079e-16])"
            ]
          },
          "metadata": {
            "tags": []
          },
          "execution_count": 11
        }
      ]
    },
    {
      "cell_type": "code",
      "metadata": {
        "colab": {
          "base_uri": "https://localhost:8080/"
        },
        "id": "esvnPU4YLs-y",
        "outputId": "e12fff33-eee9-4807-e64b-443c9c67eca5"
      },
      "source": [
        "amplitude"
      ],
      "execution_count": 12,
      "outputs": [
        {
          "output_type": "execute_result",
          "data": {
            "text/plain": [
              "array([0.42756117, 0.3125    , 0.16771686, 0.0625    , 0.16771686,\n",
              "       0.3125    , 0.42756117, 0.3125    ])"
            ]
          },
          "metadata": {
            "tags": []
          },
          "execution_count": 12
        }
      ]
    },
    {
      "cell_type": "code",
      "metadata": {
        "id": "ByLZSmGQQneq"
      },
      "source": [
        "phase=np.array(phase)\n",
        "amplitude=np.array(amplitude)\n",
        "X=[]\n",
        "for i in range(1,N+1):\n",
        "  X.append(i)\n",
        "X=np.array(X)"
      ],
      "execution_count": 13,
      "outputs": []
    },
    {
      "cell_type": "code",
      "metadata": {
        "colab": {
          "base_uri": "https://localhost:8080/",
          "height": 350
        },
        "id": "Qke-2Rz-Qu2E",
        "outputId": "f65f27ed-000f-4a04-ffeb-05f2ba418540"
      },
      "source": [
        "plt.rcParams[\"figure.figsize\"] = (10,5)\n",
        "plt.scatter(X,amplitude)\n",
        "for i in range(1,N+1):\n",
        "  plt.vlines(i, 0, amplitude[i-1])\n",
        "plt.hlines(0,0,9)\n",
        "plt.xlabel('n')\n",
        "plt.ylabel('Amplitude')\n",
        "plt.title('Amplitude plot')\n",
        "plt.show()\n"
      ],
      "execution_count": 30,
      "outputs": [
        {
          "output_type": "display_data",
          "data": {
            "image/png": "[encoded data removed]",
            "text/plain": [
              "<Figure size 720x360 with 1 Axes>"
            ]
          },
          "metadata": {
            "tags": [],
            "needs_background": "light"
          }
        }
      ]
    },
    {
      "cell_type": "code",
      "metadata": {
        "colab": {
          "base_uri": "https://localhost:8080/",
          "height": 350
        },
        "id": "S4cgDozPmdAB",
        "outputId": "d7e6cc04-3447-414f-d992-8efc8f7547b5"
      },
      "source": [
        "plt.rcParams[\"figure.figsize\"] = (10,5)\n",
        "plt.scatter(X,phase)\n",
        "for i in range(1,N+1):\n",
        "  plt.vlines(i, 0, phase[i-1])\n",
        "plt.hlines(0,0,9)\n",
        "plt.xlabel('n')\n",
        "plt.ylabel('Phase')\n",
        "plt.title('Phase plot')\n",
        "plt.show()\n",
        "\n"
      ],
      "execution_count": 31,
      "outputs": [
        {
          "output_type": "display_data",
          "data": {
            "image/png": "[encoded data removed]",
            "text/plain": [
              "<Figure size 720x360 with 1 Axes>"
            ]
          },
          "metadata": {
            "tags": [],
            "needs_background": "light"
          }
        }
      ]
    }
  ]
}